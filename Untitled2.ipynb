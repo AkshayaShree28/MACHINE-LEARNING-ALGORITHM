{
 "cells": [
  {
   "cell_type": "code",
   "execution_count": 1,
   "id": "f66a4287",
   "metadata": {},
   "outputs": [
    {
     "name": "stdout",
     "output_type": "stream",
     "text": [
      "   id        first       last  gender  Marks  selected\n",
      "0   1        Leone    Debrick  Female     50      True\n",
      "1   2       Romola  Phinnessy  Female     60     False\n",
      "2   3         Geri      Prium    Male     65     False\n",
      "3   4        Sandy   Doveston  Female     95     False\n",
      "4   5      Jacenta     Jansik  Female     31      True\n",
      "5   6  Diane-marie   Medhurst  Female     45      True\n",
      "6   7       Austen       Pool    Male     45      True\n",
      "7   8        Vanya    Teffrey    Male     70     False\n",
      "8   9     Giordano      Elloy    Male     36     False\n",
      "9  10       Rozele    Fawcett  Female     50     False\n"
     ]
    }
   ],
   "source": [
    "import pandas as pd\n",
    "col=[\"id\",\"first\",\"last\",\"gender\",\"Marks\",\"selected\"]\n",
    "df=pd.read_csv(\"SampleDB.csv\",usecols=col)\n",
    "print(df)"
   ]
  },
  {
   "cell_type": "code",
   "execution_count": 8,
   "id": "4fffb8df",
   "metadata": {},
   "outputs": [
    {
     "name": "stdout",
     "output_type": "stream",
     "text": [
      "   id        first       last  gender  Marks  selected\n",
      "0   1        Leone    Debrick       0     50      True\n",
      "1   2       Romola  Phinnessy       0     60     False\n",
      "2   3         Geri      Prium       1     65     False\n",
      "3   4        Sandy   Doveston       0     95     False\n",
      "4   5      Jacenta     Jansik       0     31      True\n",
      "5   6  Diane-marie   Medhurst       0     45      True\n",
      "6   7       Austen       Pool       1     45      True\n",
      "7   8        Vanya    Teffrey       1     70     False\n",
      "8   9     Giordano      Elloy       1     36     False\n",
      "9  10       Rozele    Fawcett       0     50     False\n"
     ]
    }
   ],
   "source": [
    "from sklearn import preprocessing\n",
    "df_gender_encode=LabelEncoder()\n",
    "df.gender=df_gender_encode.fit_transform(df.gender)\n",
    "print(df)"
   ]
  },
  {
   "cell_type": "code",
   "execution_count": 9,
   "id": "b2ba5029",
   "metadata": {},
   "outputs": [
    {
     "name": "stdout",
     "output_type": "stream",
     "text": [
      "   id        first       last  gender     Marks  selected\n",
      "0   1        Leone    Debrick       0 -0.265401      True\n",
      "1   2       Romola  Phinnessy       0  0.299282     False\n",
      "2   3         Geri      Prium       1  0.581624     False\n",
      "3   4        Sandy   Doveston       0  2.275674     False\n",
      "4   5      Jacenta     Jansik       0 -1.338300      True\n",
      "5   6  Diane-marie   Medhurst       0 -0.547743      True\n",
      "6   7       Austen       Pool       1 -0.547743      True\n",
      "7   8        Vanya    Teffrey       1  0.863966     False\n",
      "8   9     Giordano      Elloy       1 -1.055958     False\n",
      "9  10       Rozele    Fawcett       0 -0.265401     False\n"
     ]
    }
   ],
   "source": [
    "df.Marks=preprocessing.scale(df.Marks)\n",
    "scaled_df=preprocessing.scale(df.Marks)\n",
    "print(df)\n"
   ]
  },
  {
   "cell_type": "code",
   "execution_count": 10,
   "id": "77e6ab0b",
   "metadata": {},
   "outputs": [
    {
     "name": "stdout",
     "output_type": "stream",
     "text": [
      "   id        first       last  gender  Marks  selected\n",
      "0   1        Leone    Debrick       0    0.0      True\n",
      "1   2       Romola  Phinnessy       0    0.0     False\n",
      "2   3         Geri      Prium       1    1.0     False\n",
      "3   4        Sandy   Doveston       0    1.0     False\n",
      "4   5      Jacenta     Jansik       0    0.0      True\n",
      "5   6  Diane-marie   Medhurst       0    0.0      True\n",
      "6   7       Austen       Pool       1    0.0      True\n",
      "7   8        Vanya    Teffrey       1    1.0     False\n",
      "8   9     Giordano      Elloy       1    0.0     False\n",
      "9  10       Rozele    Fawcett       0    0.0     False\n"
     ]
    }
   ],
   "source": [
    "newarr=scaled_df.reshape(-1,1)\n",
    "scaled_df_bin=preprocessing.Binarizer(threshold=0.5).transform(newarr)\n",
    "df['Marks']=scaled_df_bin\n",
    "print(df)"
   ]
  },
  {
   "cell_type": "code",
   "execution_count": 19,
   "id": "65c0d3a0",
   "metadata": {},
   "outputs": [
    {
     "name": "stdout",
     "output_type": "stream",
     "text": [
      "\n",
      " Adding Duplicate \n",
      "     id        first       last  gender  Marks  selected\n",
      "0    1        Leone    Debrick       0    0.0      True\n",
      "1    2       Romola  Phinnessy       0    0.0     False\n",
      "2    3         Geri      Prium       1    1.0     False\n",
      "3    4        Sandy   Doveston       0    1.0     False\n",
      "4    5      Jacenta     Jansik       0    0.0      True\n",
      "5    6  Diane-marie   Medhurst       0    0.0      True\n",
      "6    7       Austen       Pool       1    0.0      True\n",
      "7    8        Vanya    Teffrey       1    1.0     False\n",
      "8    9     Giordano      Elloy       1    0.0     False\n",
      "9   10       Rozele    Fawcett       0    0.0     False\n",
      "10   1        Leone    Debrick       0    0.0      True\n",
      "11   2       Romola  Phinnessy       0    0.0     False\n",
      "12   3         Geri      Prium       1    1.0     False\n",
      "13   4        Sandy   Doveston       0    1.0     False\n",
      "14   5      Jacenta     Jansik       0    0.0      True\n",
      "15   6  Diane-marie   Medhurst       0    0.0      True\n",
      "16   7       Austen       Pool       1    0.0      True\n",
      "17   8        Vanya    Teffrey       1    1.0     False\n",
      "18   9     Giordano      Elloy       1    0.0     False\n",
      "19  10       Rozele    Fawcett       0    0.0     False\n",
      "\n",
      "Removing Duplicate \n",
      "    id        first       last  gender  Marks  selected\n",
      "0   1        Leone    Debrick       0    0.0      True\n",
      "1   2       Romola  Phinnessy       0    0.0     False\n",
      "2   3         Geri      Prium       1    1.0     False\n",
      "3   4        Sandy   Doveston       0    1.0     False\n",
      "4   5      Jacenta     Jansik       0    0.0      True\n",
      "5   6  Diane-marie   Medhurst       0    0.0      True\n",
      "6   7       Austen       Pool       1    0.0      True\n",
      "7   8        Vanya    Teffrey       1    1.0     False\n",
      "8   9     Giordano      Elloy       1    0.0     False\n",
      "9  10       Rozele    Fawcett       0    0.0     False\n"
     ]
    }
   ],
   "source": [
    "import pandas as pd\n",
    "df_duplicate=pd.concat([df]*2,ignore_index=True)\n",
    "print(\"\\n Adding Duplicate \\n\",df_duplicate)\n",
    "df_duplicates_removed=pd.DataFrame.drop_duplicates(df_duplicate)\n",
    "print(\"\\nRemoving Duplicate \\n\",df_duplicates_removed)"
   ]
  },
  {
   "cell_type": "code",
   "execution_count": null,
   "id": "702376ed",
   "metadata": {},
   "outputs": [],
   "source": []
  }
 ],
 "metadata": {
  "kernelspec": {
   "display_name": "Python 3 (ipykernel)",
   "language": "python",
   "name": "python3"
  },
  "language_info": {
   "codemirror_mode": {
    "name": "ipython",
    "version": 3
   },
   "file_extension": ".py",
   "mimetype": "text/x-python",
   "name": "python",
   "nbconvert_exporter": "python",
   "pygments_lexer": "ipython3",
   "version": "3.9.13"
  }
 },
 "nbformat": 4,
 "nbformat_minor": 5
}
