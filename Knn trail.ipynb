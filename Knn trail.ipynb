{
 "cells": [
  {
   "cell_type": "code",
   "execution_count": 12,
   "id": "ec153569",
   "metadata": {},
   "outputs": [],
   "source": [
    "import pandas as pd\n",
    "import math\n",
    "df=pd.read_csv('KNNData.csv')\n",
    "df\n",
    "testin=[150,57]"
   ]
  },
  {
   "cell_type": "code",
   "execution_count": 15,
   "id": "7ba02c0b",
   "metadata": {},
   "outputs": [],
   "source": [
    "def distance(df,test_h,test_w):\n",
    "    dist=[]\n",
    "    for i in range(len(df)):\n",
    "        dist.append(math.sqrt((df.iloc[i,0]-test_h)**2)+(((df.iloc[i,1])-test_w)**2))\n",
    "    df['distance']=dist\n",
    "    df=df.sort_values(['distance'])\n",
    "    df.reset_index(drop=True,inplace=True)\n",
    "    return df\n",
    "     "
   ]
  },
  {
   "cell_type": "code",
   "execution_count": 16,
   "id": "3038da0c",
   "metadata": {},
   "outputs": [
    {
     "data": {
      "text/html": [
       "<div>\n",
       "<style scoped>\n",
       "    .dataframe tbody tr th:only-of-type {\n",
       "        vertical-align: middle;\n",
       "    }\n",
       "\n",
       "    .dataframe tbody tr th {\n",
       "        vertical-align: top;\n",
       "    }\n",
       "\n",
       "    .dataframe thead th {\n",
       "        text-align: right;\n",
       "    }\n",
       "</style>\n",
       "<table border=\"1\" class=\"dataframe\">\n",
       "  <thead>\n",
       "    <tr style=\"text-align: right;\">\n",
       "      <th></th>\n",
       "      <th>Sno</th>\n",
       "      <th>Height</th>\n",
       "      <th>Weight</th>\n",
       "      <th>Class</th>\n",
       "      <th>distance</th>\n",
       "    </tr>\n",
       "  </thead>\n",
       "  <tbody>\n",
       "    <tr>\n",
       "      <th>0</th>\n",
       "      <td>1</td>\n",
       "      <td>167</td>\n",
       "      <td>51</td>\n",
       "      <td>Underweight</td>\n",
       "      <td>12269.0</td>\n",
       "    </tr>\n",
       "    <tr>\n",
       "      <th>1</th>\n",
       "      <td>7</td>\n",
       "      <td>169</td>\n",
       "      <td>58</td>\n",
       "      <td>Normal</td>\n",
       "      <td>12707.0</td>\n",
       "    </tr>\n",
       "    <tr>\n",
       "      <th>2</th>\n",
       "      <td>9</td>\n",
       "      <td>170</td>\n",
       "      <td>55</td>\n",
       "      <td>Normal</td>\n",
       "      <td>12930.0</td>\n",
       "    </tr>\n",
       "    <tr>\n",
       "      <th>3</th>\n",
       "      <td>5</td>\n",
       "      <td>172</td>\n",
       "      <td>65</td>\n",
       "      <td>Normal</td>\n",
       "      <td>13390.0</td>\n",
       "    </tr>\n",
       "    <tr>\n",
       "      <th>4</th>\n",
       "      <td>8</td>\n",
       "      <td>173</td>\n",
       "      <td>57</td>\n",
       "      <td>Normal</td>\n",
       "      <td>13618.0</td>\n",
       "    </tr>\n",
       "    <tr>\n",
       "      <th>5</th>\n",
       "      <td>4</td>\n",
       "      <td>173</td>\n",
       "      <td>64</td>\n",
       "      <td>Normal</td>\n",
       "      <td>13622.0</td>\n",
       "    </tr>\n",
       "    <tr>\n",
       "      <th>6</th>\n",
       "      <td>6</td>\n",
       "      <td>174</td>\n",
       "      <td>56</td>\n",
       "      <td>Underweight</td>\n",
       "      <td>13853.0</td>\n",
       "    </tr>\n",
       "    <tr>\n",
       "      <th>7</th>\n",
       "      <td>10</td>\n",
       "      <td>176</td>\n",
       "      <td>59</td>\n",
       "      <td>Normal</td>\n",
       "      <td>14321.0</td>\n",
       "    </tr>\n",
       "    <tr>\n",
       "      <th>8</th>\n",
       "      <td>3</td>\n",
       "      <td>176</td>\n",
       "      <td>69</td>\n",
       "      <td>Normal</td>\n",
       "      <td>14328.0</td>\n",
       "    </tr>\n",
       "    <tr>\n",
       "      <th>9</th>\n",
       "      <td>2</td>\n",
       "      <td>182</td>\n",
       "      <td>62</td>\n",
       "      <td>Normal</td>\n",
       "      <td>15793.0</td>\n",
       "    </tr>\n",
       "  </tbody>\n",
       "</table>\n",
       "</div>"
      ],
      "text/plain": [
       "   Sno  Height  Weight        Class  distance\n",
       "0    1     167      51  Underweight   12269.0\n",
       "1    7     169      58       Normal   12707.0\n",
       "2    9     170      55       Normal   12930.0\n",
       "3    5     172      65       Normal   13390.0\n",
       "4    8     173      57       Normal   13618.0\n",
       "5    4     173      64       Normal   13622.0\n",
       "6    6     174      56  Underweight   13853.0\n",
       "7   10     176      59      Normal    14321.0\n",
       "8    3     176      69       Normal   14328.0\n",
       "9    2     182      62       Normal   15793.0"
      ]
     },
     "execution_count": 16,
     "metadata": {},
     "output_type": "execute_result"
    }
   ],
   "source": [
    "df2=distance(df,170,57)\n",
    "df2"
   ]
  },
  {
   "cell_type": "code",
   "execution_count": 18,
   "id": "98622b21",
   "metadata": {},
   "outputs": [
    {
     "data": {
      "text/html": [
       "<div>\n",
       "<style scoped>\n",
       "    .dataframe tbody tr th:only-of-type {\n",
       "        vertical-align: middle;\n",
       "    }\n",
       "\n",
       "    .dataframe tbody tr th {\n",
       "        vertical-align: top;\n",
       "    }\n",
       "\n",
       "    .dataframe thead th {\n",
       "        text-align: right;\n",
       "    }\n",
       "</style>\n",
       "<table border=\"1\" class=\"dataframe\">\n",
       "  <thead>\n",
       "    <tr style=\"text-align: right;\">\n",
       "      <th></th>\n",
       "      <th>Sno</th>\n",
       "      <th>Height</th>\n",
       "      <th>Weight</th>\n",
       "      <th>Class</th>\n",
       "      <th>distance</th>\n",
       "    </tr>\n",
       "  </thead>\n",
       "  <tbody>\n",
       "    <tr>\n",
       "      <th>0</th>\n",
       "      <td>1</td>\n",
       "      <td>167</td>\n",
       "      <td>51</td>\n",
       "      <td>Underweight</td>\n",
       "      <td>12269.0</td>\n",
       "    </tr>\n",
       "    <tr>\n",
       "      <th>1</th>\n",
       "      <td>7</td>\n",
       "      <td>169</td>\n",
       "      <td>58</td>\n",
       "      <td>Normal</td>\n",
       "      <td>12707.0</td>\n",
       "    </tr>\n",
       "    <tr>\n",
       "      <th>2</th>\n",
       "      <td>9</td>\n",
       "      <td>170</td>\n",
       "      <td>55</td>\n",
       "      <td>Normal</td>\n",
       "      <td>12930.0</td>\n",
       "    </tr>\n",
       "  </tbody>\n",
       "</table>\n",
       "</div>"
      ],
      "text/plain": [
       "   Sno  Height  Weight        Class  distance\n",
       "0    1     167      51  Underweight   12269.0\n",
       "1    7     169      58       Normal   12707.0\n",
       "2    9     170      55       Normal   12930.0"
      ]
     },
     "execution_count": 18,
     "metadata": {},
     "output_type": "execute_result"
    }
   ],
   "source": [
    "k=3\n",
    "df1=df2.head(k)\n",
    "df1"
   ]
  },
  {
   "cell_type": "code",
   "execution_count": 21,
   "id": "25f32dba",
   "metadata": {},
   "outputs": [
    {
     "name": "stdout",
     "output_type": "stream",
     "text": [
      "Test Instance classified as Normal\n"
     ]
    }
   ],
   "source": [
    "nor=0\n",
    "wei=0\n",
    "for i in range (len(df1)):\n",
    "    if(df1['Class'][i]==\"Normal\"):\n",
    "        nor=nor+1\n",
    "    else:\n",
    "        wei=+1\n",
    "\n",
    "if(nor>wei):\n",
    "    print(\"Test Instance classified as Normal\")\n",
    "else:\n",
    "     print(\"Test Instance classified as UnderWeight\")"
   ]
  },
  {
   "cell_type": "code",
   "execution_count": 22,
   "id": "5508dabc",
   "metadata": {},
   "outputs": [
    {
     "data": {
      "text/html": [
       "<div>\n",
       "<style scoped>\n",
       "    .dataframe tbody tr th:only-of-type {\n",
       "        vertical-align: middle;\n",
       "    }\n",
       "\n",
       "    .dataframe tbody tr th {\n",
       "        vertical-align: top;\n",
       "    }\n",
       "\n",
       "    .dataframe thead th {\n",
       "        text-align: right;\n",
       "    }\n",
       "</style>\n",
       "<table border=\"1\" class=\"dataframe\">\n",
       "  <thead>\n",
       "    <tr style=\"text-align: right;\">\n",
       "      <th></th>\n",
       "      <th>Sno</th>\n",
       "      <th>Height</th>\n",
       "      <th>Weight</th>\n",
       "      <th>Class</th>\n",
       "    </tr>\n",
       "  </thead>\n",
       "  <tbody>\n",
       "    <tr>\n",
       "      <th>0</th>\n",
       "      <td>1</td>\n",
       "      <td>167</td>\n",
       "      <td>51</td>\n",
       "      <td>Underweight</td>\n",
       "    </tr>\n",
       "    <tr>\n",
       "      <th>1</th>\n",
       "      <td>2</td>\n",
       "      <td>182</td>\n",
       "      <td>62</td>\n",
       "      <td>Normal</td>\n",
       "    </tr>\n",
       "    <tr>\n",
       "      <th>2</th>\n",
       "      <td>3</td>\n",
       "      <td>176</td>\n",
       "      <td>69</td>\n",
       "      <td>Normal</td>\n",
       "    </tr>\n",
       "    <tr>\n",
       "      <th>3</th>\n",
       "      <td>4</td>\n",
       "      <td>173</td>\n",
       "      <td>64</td>\n",
       "      <td>Normal</td>\n",
       "    </tr>\n",
       "    <tr>\n",
       "      <th>4</th>\n",
       "      <td>5</td>\n",
       "      <td>172</td>\n",
       "      <td>65</td>\n",
       "      <td>Normal</td>\n",
       "    </tr>\n",
       "    <tr>\n",
       "      <th>5</th>\n",
       "      <td>6</td>\n",
       "      <td>174</td>\n",
       "      <td>56</td>\n",
       "      <td>Underweight</td>\n",
       "    </tr>\n",
       "    <tr>\n",
       "      <th>6</th>\n",
       "      <td>7</td>\n",
       "      <td>169</td>\n",
       "      <td>58</td>\n",
       "      <td>Normal</td>\n",
       "    </tr>\n",
       "    <tr>\n",
       "      <th>7</th>\n",
       "      <td>8</td>\n",
       "      <td>173</td>\n",
       "      <td>57</td>\n",
       "      <td>Normal</td>\n",
       "    </tr>\n",
       "    <tr>\n",
       "      <th>8</th>\n",
       "      <td>9</td>\n",
       "      <td>170</td>\n",
       "      <td>55</td>\n",
       "      <td>Normal</td>\n",
       "    </tr>\n",
       "    <tr>\n",
       "      <th>9</th>\n",
       "      <td>10</td>\n",
       "      <td>176</td>\n",
       "      <td>59</td>\n",
       "      <td>Normal</td>\n",
       "    </tr>\n",
       "  </tbody>\n",
       "</table>\n",
       "</div>"
      ],
      "text/plain": [
       "   Sno  Height  Weight        Class\n",
       "0    1     167      51  Underweight\n",
       "1    2     182      62       Normal\n",
       "2    3     176      69       Normal\n",
       "3    4     173      64       Normal\n",
       "4    5     172      65       Normal\n",
       "5    6     174      56  Underweight\n",
       "6    7     169      58       Normal\n",
       "7    8     173      57       Normal\n",
       "8    9     170      55       Normal\n",
       "9   10     176      59      Normal "
      ]
     },
     "execution_count": 22,
     "metadata": {},
     "output_type": "execute_result"
    }
   ],
   "source": [
    "from sklearn.neighbors import KNeighborsClassifier\n",
    "from sklearn.model_selection import train_test_split\n",
    "df=pd.read_csv('KNNData.csv')\n",
    "df"
   ]
  },
  {
   "cell_type": "code",
   "execution_count": 28,
   "id": "ea6796c9",
   "metadata": {},
   "outputs": [
    {
     "data": {
      "text/plain": [
       "0    Underweight\n",
       "1         Normal\n",
       "2         Normal\n",
       "3         Normal\n",
       "4         Normal\n",
       "5    Underweight\n",
       "6         Normal\n",
       "7         Normal\n",
       "8         Normal\n",
       "9        Normal \n",
       "Name: Class, dtype: object"
      ]
     },
     "execution_count": 28,
     "metadata": {},
     "output_type": "execute_result"
    }
   ],
   "source": [
    "X1=df.drop(['Class'],axis=1)\n",
    "X1\n",
    "X=X1.drop(['Sno'],axis=1)\n",
    "Y=df['Class']\n",
    "Y"
   ]
  },
  {
   "cell_type": "code",
   "execution_count": 29,
   "id": "055f5f5e",
   "metadata": {},
   "outputs": [],
   "source": [
    "xtrain,xtest,ytrain,ytest=train_test_split(X,Y,test_size=0.2)"
   ]
  },
  {
   "cell_type": "code",
   "execution_count": 30,
   "id": "74390674",
   "metadata": {},
   "outputs": [],
   "source": [
    "k=3\n",
    "knn=KNeighborsClassifier(k)"
   ]
  },
  {
   "cell_type": "code",
   "execution_count": 31,
   "id": "52cc2b47",
   "metadata": {},
   "outputs": [
    {
     "data": {
      "text/plain": [
       "KNeighborsClassifier(n_neighbors=3)"
      ]
     },
     "execution_count": 31,
     "metadata": {},
     "output_type": "execute_result"
    }
   ],
   "source": [
    "knn.fit(xtrain,ytrain)"
   ]
  },
  {
   "cell_type": "code",
   "execution_count": 32,
   "id": "a98b220d",
   "metadata": {},
   "outputs": [
    {
     "name": "stderr",
     "output_type": "stream",
     "text": [
      "C:\\Users\\aksha\\anaconda3\\lib\\site-packages\\sklearn\\neighbors\\_classification.py:228: FutureWarning: Unlike other reduction functions (e.g. `skew`, `kurtosis`), the default behavior of `mode` typically preserves the axis it acts along. In SciPy 1.11.0, this behavior will change: the default value of `keepdims` will become False, the `axis` over which the statistic is taken will be eliminated, and the value None will no longer be accepted. Set `keepdims` to True or False to avoid this warning.\n",
      "  mode, _ = stats.mode(_y[neigh_ind, k], axis=1)\n"
     ]
    },
    {
     "data": {
      "text/plain": [
       "array(['Normal', 'Normal'], dtype=object)"
      ]
     },
     "execution_count": 32,
     "metadata": {},
     "output_type": "execute_result"
    }
   ],
   "source": [
    "knn.predict(xtest)"
   ]
  },
  {
   "cell_type": "code",
   "execution_count": 36,
   "id": "c972bcd9",
   "metadata": {},
   "outputs": [],
   "source": [
    "def distance(df,test_h,test_w):\n",
    "    dist=[]\n",
    "    for i in range(len(df)):\n",
    "        dist.append(math.sqrt((df.iloc[i,0]-test_h)**2)+((df.iloc[i,1]-test_w)**2))\n",
    "        df['distance']=dist\n",
    "        df=df.sort_values(['distance'])\n",
    "        df.reset_index(drop=true,inplace=True)\n",
    "    return df"
   ]
  },
  {
   "cell_type": "code",
   "execution_count": 39,
   "id": "9d8e360c",
   "metadata": {},
   "outputs": [],
   "source": [
    "##centroid\n",
    "\n",
    "import pandas as pd\n",
    "import math\n",
    "df=pd.read_csv('KNNData.csv')\n"
   ]
  },
  {
   "cell_type": "code",
   "execution_count": 40,
   "id": "ca72beb2",
   "metadata": {},
   "outputs": [],
   "source": [
    "def distance(x1,x2,y1,y2):\n",
    "    return math.sqrt((x1-x2)**2+(y1-y2)**2)"
   ]
  },
  {
   "cell_type": "code",
   "execution_count": 45,
   "id": "42cc3d9c",
   "metadata": {},
   "outputs": [],
   "source": [
    "def centroid(df,x2,y2):\n",
    "    a=df.groupby(['Class']).mean()\n",
    "    print(a)\n",
    "    n=distance(a['Height'][0],x2,a['Weight'][0],y2)\n",
    "    w=distance(a['Height'][1],x2,a['Weight'][1],y2)\n",
    "    \n",
    "    if(n>w):\n",
    "        print(\"The class Normal\")\n",
    "    else:\n",
    "        print(\"The class UnderWeight\")"
   ]
  },
  {
   "cell_type": "code",
   "execution_count": 46,
   "id": "99ad2a2f",
   "metadata": {},
   "outputs": [
    {
     "name": "stdout",
     "output_type": "stream",
     "text": [
      "                   Sno      Height     Weight\n",
      "Class                                        \n",
      "Normal        5.428571  173.571429  61.428571\n",
      "Normal       10.000000  176.000000  59.000000\n",
      "Underweight   3.500000  170.500000  53.500000\n",
      "The class UnderWeight\n"
     ]
    }
   ],
   "source": [
    "centroid(df, 170, 57)"
   ]
  }
 ],
 "metadata": {
  "kernelspec": {
   "display_name": "Python 3 (ipykernel)",
   "language": "python",
   "name": "python3"
  },
  "language_info": {
   "codemirror_mode": {
    "name": "ipython",
    "version": 3
   },
   "file_extension": ".py",
   "mimetype": "text/x-python",
   "name": "python",
   "nbconvert_exporter": "python",
   "pygments_lexer": "ipython3",
   "version": "3.9.13"
  }
 },
 "nbformat": 4,
 "nbformat_minor": 5
}
