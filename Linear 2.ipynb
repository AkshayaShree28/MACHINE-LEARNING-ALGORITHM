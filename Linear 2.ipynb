{
 "cells": [
  {
   "cell_type": "code",
   "execution_count": 1,
   "id": "e40efc76",
   "metadata": {},
   "outputs": [
    {
     "name": "stdout",
     "output_type": "stream",
     "text": [
      "      X    Y\n",
      "0   2.9  4.0\n",
      "1   6.7  7.4\n",
      "2   4.9  5.0\n",
      "3   7.9  7.2\n",
      "4   9.8  7.9\n",
      "5   6.9  6.1\n",
      "6   6.1  6.0\n",
      "7   6.2  5.8\n",
      "8   6.0  5.2\n",
      "9   5.1  4.2\n",
      "10  4.7  4.0\n",
      "11  4.4  4.4\n",
      "12  5.8  5.2\n"
     ]
    }
   ],
   "source": [
    "import pandas as pd\n",
    "cols=['X','Y']\n",
    "lr=pd.read_csv('Ds2.csv')\n",
    "print(lr)\n"
   ]
  },
  {
   "cell_type": "code",
   "execution_count": 3,
   "id": "d4200f3a",
   "metadata": {},
   "outputs": [],
   "source": [
    "mex=lr['X'].mean()\n",
    "mey=lr['Y'].mean()\n",
    "x=lr['X']\n",
    "xsq=pow(x,2)\n",
    "mexsq=xsq.mean()\n",
    "sqmex=pow(mex,2)\n",
    "mexy=xy.mean()"
   ]
  },
  {
   "cell_type": "code",
   "execution_count": 10,
   "id": "a67056bc",
   "metadata": {},
   "outputs": [
    {
     "name": "stdout",
     "output_type": "stream",
     "text": [
      "0.6945291936390532\n",
      "1.434110766465503\n"
     ]
    }
   ],
   "source": [
    "a1=(mexy-(mex*mey))/(mexsq-sqmex)\n",
    "print(a1)\n",
    "a0=mey-a1*mex\n",
    "print(a0)"
   ]
  },
  {
   "cell_type": "code",
   "execution_count": 15,
   "id": "cd508e4b",
   "metadata": {},
   "outputs": [
    {
     "data": {
      "text/html": [
       "<div>\n",
       "<style scoped>\n",
       "    .dataframe tbody tr th:only-of-type {\n",
       "        vertical-align: middle;\n",
       "    }\n",
       "\n",
       "    .dataframe tbody tr th {\n",
       "        vertical-align: top;\n",
       "    }\n",
       "\n",
       "    .dataframe thead th {\n",
       "        text-align: right;\n",
       "    }\n",
       "</style>\n",
       "<table border=\"1\" class=\"dataframe\">\n",
       "  <thead>\n",
       "    <tr style=\"text-align: right;\">\n",
       "      <th></th>\n",
       "      <th>X</th>\n",
       "      <th>Y</th>\n",
       "      <th>ycap</th>\n",
       "    </tr>\n",
       "  </thead>\n",
       "  <tbody>\n",
       "    <tr>\n",
       "      <th>0</th>\n",
       "      <td>2.9</td>\n",
       "      <td>4.0</td>\n",
       "      <td>3.448245</td>\n",
       "    </tr>\n",
       "    <tr>\n",
       "      <th>1</th>\n",
       "      <td>6.7</td>\n",
       "      <td>7.4</td>\n",
       "      <td>6.087456</td>\n",
       "    </tr>\n",
       "    <tr>\n",
       "      <th>2</th>\n",
       "      <td>4.9</td>\n",
       "      <td>5.0</td>\n",
       "      <td>4.837304</td>\n",
       "    </tr>\n",
       "    <tr>\n",
       "      <th>3</th>\n",
       "      <td>7.9</td>\n",
       "      <td>7.2</td>\n",
       "      <td>6.920891</td>\n",
       "    </tr>\n",
       "    <tr>\n",
       "      <th>4</th>\n",
       "      <td>9.8</td>\n",
       "      <td>7.9</td>\n",
       "      <td>8.240497</td>\n",
       "    </tr>\n",
       "    <tr>\n",
       "      <th>5</th>\n",
       "      <td>6.9</td>\n",
       "      <td>6.1</td>\n",
       "      <td>6.226362</td>\n",
       "    </tr>\n",
       "    <tr>\n",
       "      <th>6</th>\n",
       "      <td>6.1</td>\n",
       "      <td>6.0</td>\n",
       "      <td>5.670739</td>\n",
       "    </tr>\n",
       "    <tr>\n",
       "      <th>7</th>\n",
       "      <td>6.2</td>\n",
       "      <td>5.8</td>\n",
       "      <td>5.740192</td>\n",
       "    </tr>\n",
       "    <tr>\n",
       "      <th>8</th>\n",
       "      <td>6.0</td>\n",
       "      <td>5.2</td>\n",
       "      <td>5.601286</td>\n",
       "    </tr>\n",
       "    <tr>\n",
       "      <th>9</th>\n",
       "      <td>5.1</td>\n",
       "      <td>4.2</td>\n",
       "      <td>4.976210</td>\n",
       "    </tr>\n",
       "    <tr>\n",
       "      <th>10</th>\n",
       "      <td>4.7</td>\n",
       "      <td>4.0</td>\n",
       "      <td>4.698398</td>\n",
       "    </tr>\n",
       "    <tr>\n",
       "      <th>11</th>\n",
       "      <td>4.4</td>\n",
       "      <td>4.4</td>\n",
       "      <td>4.490039</td>\n",
       "    </tr>\n",
       "    <tr>\n",
       "      <th>12</th>\n",
       "      <td>5.8</td>\n",
       "      <td>5.2</td>\n",
       "      <td>5.462380</td>\n",
       "    </tr>\n",
       "  </tbody>\n",
       "</table>\n",
       "</div>"
      ],
      "text/plain": [
       "      X    Y      ycap\n",
       "0   2.9  4.0  3.448245\n",
       "1   6.7  7.4  6.087456\n",
       "2   4.9  5.0  4.837304\n",
       "3   7.9  7.2  6.920891\n",
       "4   9.8  7.9  8.240497\n",
       "5   6.9  6.1  6.226362\n",
       "6   6.1  6.0  5.670739\n",
       "7   6.2  5.8  5.740192\n",
       "8   6.0  5.2  5.601286\n",
       "9   5.1  4.2  4.976210\n",
       "10  4.7  4.0  4.698398\n",
       "11  4.4  4.4  4.490039\n",
       "12  5.8  5.2  5.462380"
      ]
     },
     "execution_count": 15,
     "metadata": {},
     "output_type": "execute_result"
    }
   ],
   "source": [
    "ycap=a0+a1*lr['X']\n",
    "lr['ycap']=ycap\n",
    "lr\n"
   ]
  },
  {
   "cell_type": "code",
   "execution_count": 16,
   "id": "37483861",
   "metadata": {},
   "outputs": [
    {
     "data": {
      "text/plain": [
       "0.8213156778363769"
      ]
     },
     "execution_count": 16,
     "metadata": {},
     "output_type": "execute_result"
    }
   ],
   "source": [
    "#R^2 value\n",
    "\n",
    "a=lr['ycap']-mey\n",
    "b=lr['Y']-mey\n",
    "a2=a*a\n",
    "b2=b*b\n",
    "a2_sum=a2.sum()\n",
    "b2_sum=b2.sum()\n",
    "r2=a2_sum/b2_sum\n",
    "r2"
   ]
  },
  {
   "cell_type": "code",
   "execution_count": 19,
   "id": "40bac5c8",
   "metadata": {},
   "outputs": [
    {
     "data": {
      "image/png": "[encoded data removed]",
      "text/plain": [
       "<Figure size 640x480 with 1 Axes>"
      ]
     },
     "metadata": {},
     "output_type": "display_data"
    }
   ],
   "source": [
    "import matplotlib.pyplot as mt\n",
    "mt.scatter(lr['X'],lr['Y'])\n",
    "mt.plot(lr['X'],lr['ycap'],color='black')\n",
    "mt.show()"
   ]
  },
  {
   "cell_type": "code",
   "execution_count": null,
   "id": "471ba8de",
   "metadata": {},
   "outputs": [],
   "source": []
  }
 ],
 "metadata": {
  "kernelspec": {
   "display_name": "Python 3 (ipykernel)",
   "language": "python",
   "name": "python3"
  },
  "language_info": {
   "codemirror_mode": {
    "name": "ipython",
    "version": 3
   },
   "file_extension": ".py",
   "mimetype": "text/x-python",
   "name": "python",
   "nbconvert_exporter": "python",
   "pygments_lexer": "ipython3",
   "version": "3.9.13"
  }
 },
 "nbformat": 4,
 "nbformat_minor": 5
}
