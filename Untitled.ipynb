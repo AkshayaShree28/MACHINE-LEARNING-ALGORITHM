{
 "cells": [
  {
   "cell_type": "code",
   "execution_count": 2,
   "id": "fb12cdba",
   "metadata": {},
   "outputs": [
    {
     "name": "stdout",
     "output_type": "stream",
     "text": [
      "   id        first  gender  Marks  selected\n",
      "0   1        Leone  Female     50      True\n",
      "1   2       Romola  Female     60     False\n",
      "2   3         Geri    Male     65     False\n",
      "3   4        Sandy  Female     95     False\n",
      "4   5      Jacenta  Female     31      True\n",
      "5   6  Diane-marie  Female     45      True\n",
      "6   7       Austen    Male     45      True\n",
      "7   8        Vanya    Male     70     False\n",
      "8   9     Giordano    Male     36     False\n",
      "9  10       Rozele  Female     50     False\n"
     ]
    }
   ],
   "source": [
    "import pandas as pd\n",
    "col=[\"id\",\"first\",\"gender\",\"Marks\",\"selected\"]\n",
    "df=pd.read_csv(\"SampleDB.csv\",usecols=col)\n",
    "print(df)"
   ]
  },
  {
   "cell_type": "code",
   "execution_count": 9,
   "id": "3103fb9d",
   "metadata": {},
   "outputs": [
    {
     "name": "stdout",
     "output_type": "stream",
     "text": [
      "Mean\t54.7\n"
     ]
    }
   ],
   "source": [
    "mea=df['Marks'].mean()\n",
    "print(\"Mean\\t\"+str(mea))"
   ]
  },
  {
   "cell_type": "code",
   "execution_count": 8,
   "id": "dc1d4903",
   "metadata": {},
   "outputs": [
    {
     "name": "stdout",
     "output_type": "stream",
     "text": [
      "Sum\t547\n"
     ]
    }
   ],
   "source": [
    "su=df['Marks'].sum()\n",
    "print(\"Sum\\t\" +str(su))"
   ]
  },
  {
   "cell_type": "code",
   "execution_count": 20,
   "id": "0d40e0cf",
   "metadata": {},
   "outputs": [
    {
     "name": "stdout",
     "output_type": "stream",
     "text": [
      "Max Mark \t 95\n"
     ]
    }
   ],
   "source": [
    "ma=df['Marks'].max()\n",
    "print(\"Max Mark \\t\",ma)\n",
    "        "
   ]
  },
  {
   "cell_type": "code",
   "execution_count": 13,
   "id": "79914f7f",
   "metadata": {},
   "outputs": [
    {
     "name": "stdout",
     "output_type": "stream",
     "text": [
      "Min Mark \t31\n"
     ]
    }
   ],
   "source": [
    "print(\"Min Mark \\t\"+str(df['Marks'].min()))"
   ]
  },
  {
   "cell_type": "code",
   "execution_count": 15,
   "id": "3e3ecf55",
   "metadata": {},
   "outputs": [
    {
     "name": "stdout",
     "output_type": "stream",
     "text": [
      "Count of Mark \t10\n",
      "Median of Mark \t50.0\n",
      "Standard Deviation of Mark\t18.666964283341724\n",
      "Variance of Mark \t348.4555555555555\n"
     ]
    }
   ],
   "source": [
    "print(\"Count of Mark \\t\"+str(df['Marks'].count()))\n",
    "print(\"Median of Mark \\t\"+str(df['Marks'].median()))\n",
    "print(\"Standard Deviation of Mark\\t\"+str(df['Marks'].std()))\n",
    "print(\"Variance of Mark \\t\"+str(df['Marks'].var()))"
   ]
  },
  {
   "cell_type": "code",
   "execution_count": 17,
   "id": "5f094e2a",
   "metadata": {},
   "outputs": [
    {
     "name": "stdout",
     "output_type": "stream",
     "text": [
      "(10, 5)\n",
      "   id    first  gender  Marks  selected\n",
      "0   1    Leone  Female     50      True\n",
      "1   2   Romola  Female     60     False\n",
      "2   3     Geri    Male     65     False\n",
      "3   4    Sandy  Female     95     False\n",
      "4   5  Jacenta  Female     31      True\n",
      "<bound method NDFrame.describe of    id        first  gender  Marks  selected\n",
      "0   1        Leone  Female     50      True\n",
      "1   2       Romola  Female     60     False\n",
      "2   3         Geri    Male     65     False\n",
      "3   4        Sandy  Female     95     False\n",
      "4   5      Jacenta  Female     31      True\n",
      "5   6  Diane-marie  Female     45      True\n",
      "6   7       Austen    Male     45      True\n",
      "7   8        Vanya    Male     70     False\n",
      "8   9     Giordano    Male     36     False\n",
      "9  10       Rozele  Female     50     False>\n"
     ]
    }
   ],
   "source": [
    "print(df.shape)\n",
    "print(df.head(5))\n",
    "print(df.describe)"
   ]
  },
  {
   "cell_type": "code",
   "execution_count": null,
   "id": "19929042",
   "metadata": {},
   "outputs": [],
   "source": []
  }
 ],
 "metadata": {
  "kernelspec": {
   "display_name": "Python 3 (ipykernel)",
   "language": "python",
   "name": "python3"
  },
  "language_info": {
   "codemirror_mode": {
    "name": "ipython",
    "version": 3
   },
   "file_extension": ".py",
   "mimetype": "text/x-python",
   "name": "python",
   "nbconvert_exporter": "python",
   "pygments_lexer": "ipython3",
   "version": "3.9.13"
  }
 },
 "nbformat": 4,
 "nbformat_minor": 5
}
