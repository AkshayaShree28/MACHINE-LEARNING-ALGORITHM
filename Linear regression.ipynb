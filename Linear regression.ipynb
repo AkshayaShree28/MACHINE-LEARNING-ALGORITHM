{
 "cells": [
  {
   "cell_type": "code",
   "execution_count": 6,
   "id": "df47e86f",
   "metadata": {},
   "outputs": [
    {
     "name": "stdout",
     "output_type": "stream",
     "text": [
      "       X     Y\n",
      "0   1000  1050\n",
      "1   1125  1150\n",
      "2   1087  1213\n",
      "3   1070  1275\n",
      "4   1100  1300\n",
      "5   1150  1300\n",
      "6   1250  1400\n",
      "7   1150  1400\n",
      "8   1100  1250\n",
      "9   1350  1830\n",
      "10  1275  1350\n",
      "11  1375  1450\n",
      "12  1175  1300\n",
      "13  1200  1300\n",
      "14  1175  1275\n",
      "15  1300  1375\n",
      "16  1260  1285\n",
      "17  1330  1400\n",
      "18  1325  1400\n",
      "19  1200  1285\n",
      "20  1225  1275\n",
      "21  1090  1135\n",
      "22  1075  1250\n",
      "23  1080  1275\n",
      "24  1080  1150\n",
      "25  1180  1250\n",
      "26  1225  1275\n",
      "27  1175  1225\n",
      "28  1250  1280\n",
      "29  1250  1300\n",
      "30   750  1250\n",
      "31  1125  1175\n",
      "32   700  1300\n",
      "33   900  1250\n",
      "34   900  1300\n",
      "35   850  1200\n"
     ]
    }
   ],
   "source": [
    "import pandas as pd\n",
    "cols=[\"X\",\"Y\"]\n",
    "lr=pd.read_csv(\"DS1.csv\",usecols=cols)\n",
    "print(lr)"
   ]
  },
  {
   "cell_type": "code",
   "execution_count": 7,
   "id": "86c859be",
   "metadata": {},
   "outputs": [
    {
     "name": "stdout",
     "output_type": "stream",
     "text": [
      "1134.7777777777778\n"
     ]
    }
   ],
   "source": [
    "mex=lr['X'].mean()\n",
    "print(mex)"
   ]
  },
  {
   "cell_type": "code",
   "execution_count": 10,
   "id": "6e265e97",
   "metadata": {},
   "outputs": [
    {
     "name": "stdout",
     "output_type": "stream",
     "text": [
      "1291.0555555555557\n"
     ]
    }
   ],
   "source": [
    "mey=lr['Y'].mean()\n",
    "print(mey)"
   ]
  },
  {
   "cell_type": "code",
   "execution_count": 14,
   "id": "812a69ed",
   "metadata": {},
   "outputs": [
    {
     "name": "stdout",
     "output_type": "stream",
     "text": [
      "0     1000000\n",
      "1     1265625\n",
      "2     1181569\n",
      "3     1144900\n",
      "4     1210000\n",
      "5     1322500\n",
      "6     1562500\n",
      "7     1322500\n",
      "8     1210000\n",
      "9     1822500\n",
      "10    1625625\n",
      "11    1890625\n",
      "12    1380625\n",
      "13    1440000\n",
      "14    1380625\n",
      "15    1690000\n",
      "16    1587600\n",
      "17    1768900\n",
      "18    1755625\n",
      "19    1440000\n",
      "20    1500625\n",
      "21    1188100\n",
      "22    1155625\n",
      "23    1166400\n",
      "24    1166400\n",
      "25    1392400\n",
      "26    1500625\n",
      "27    1380625\n",
      "28    1562500\n",
      "29    1562500\n",
      "30     562500\n",
      "31    1265625\n",
      "32     490000\n",
      "33     810000\n",
      "34     810000\n",
      "35     722500\n",
      "Name: X, dtype: int64\n"
     ]
    }
   ],
   "source": [
    "x=lr['X']\n",
    "xsq=pow(x,2)\n",
    "print(xsq)"
   ]
  },
  {
   "cell_type": "code",
   "execution_count": 15,
   "id": "8d738a55",
   "metadata": {},
   "outputs": [
    {
     "name": "stdout",
     "output_type": "stream",
     "text": [
      "1312170.6666666667\n"
     ]
    }
   ],
   "source": [
    "mexsq=xsq.mean()\n",
    "print(mexsq)"
   ]
  },
  {
   "cell_type": "code",
   "execution_count": 16,
   "id": "3e56ecf1",
   "metadata": {},
   "outputs": [
    {
     "name": "stdout",
     "output_type": "stream",
     "text": [
      "1287720.6049382717\n"
     ]
    }
   ],
   "source": [
    "sqmex=pow(mex,2)\n",
    "print(sqmex)"
   ]
  },
  {
   "cell_type": "code",
   "execution_count": 19,
   "id": "8e9e1cbf",
   "metadata": {},
   "outputs": [
    {
     "name": "stdout",
     "output_type": "stream",
     "text": [
      "0     1050000\n",
      "1     1293750\n",
      "2     1318531\n",
      "3     1364250\n",
      "4     1430000\n",
      "5     1495000\n",
      "6     1750000\n",
      "7     1610000\n",
      "8     1375000\n",
      "9     2470500\n",
      "10    1721250\n",
      "11    1993750\n",
      "12    1527500\n",
      "13    1560000\n",
      "14    1498125\n",
      "15    1787500\n",
      "16    1619100\n",
      "17    1862000\n",
      "18    1855000\n",
      "19    1542000\n",
      "20    1561875\n",
      "21    1237150\n",
      "22    1343750\n",
      "23    1377000\n",
      "24    1242000\n",
      "25    1475000\n",
      "26    1561875\n",
      "27    1439375\n",
      "28    1600000\n",
      "29    1625000\n",
      "30     937500\n",
      "31    1321875\n",
      "32     910000\n",
      "33    1125000\n",
      "34    1170000\n",
      "35    1020000\n",
      "dtype: int64\n",
      "\n",
      "Mean of xy 1474184.888888889\n"
     ]
    }
   ],
   "source": [
    "xy=lr['X']*lr['Y']\n",
    "print(xy)\n",
    "mexy=xy.mean()\n",
    "print(\"\\nMean of xy\",mexy)"
   ]
  },
  {
   "cell_type": "code",
   "execution_count": 20,
   "id": "1e034f2b",
   "metadata": {},
   "outputs": [
    {
     "name": "stdout",
     "output_type": "stream",
     "text": [
      "1465061.1543209879\n"
     ]
    }
   ],
   "source": [
    "r=mex*mey\n",
    "print(r)\n"
   ]
  },
  {
   "cell_type": "code",
   "execution_count": 21,
   "id": "f50f075f",
   "metadata": {},
   "outputs": [
    {
     "name": "stdout",
     "output_type": "stream",
     "text": [
      "9123.73456790112\n"
     ]
    }
   ],
   "source": [
    "v=mexy-r\n",
    "print(v)"
   ]
  },
  {
   "cell_type": "code",
   "execution_count": 22,
   "id": "ea3eb40c",
   "metadata": {},
   "outputs": [
    {
     "name": "stdout",
     "output_type": "stream",
     "text": [
      "24450.061728395056\n"
     ]
    }
   ],
   "source": [
    "w=mexsq-sqmex\n",
    "print(w)"
   ]
  },
  {
   "cell_type": "code",
   "execution_count": 23,
   "id": "f3988cf1",
   "metadata": {},
   "outputs": [
    {
     "name": "stdout",
     "output_type": "stream",
     "text": [
      "0.3731579359288602\n"
     ]
    }
   ],
   "source": [
    "a1=v/w\n",
    "print(a1)"
   ]
  },
  {
   "cell_type": "code",
   "execution_count": 24,
   "id": "6f752032",
   "metadata": {},
   "outputs": [
    {
     "name": "stdout",
     "output_type": "stream",
     "text": [
      "423.4513332934944\n"
     ]
    }
   ],
   "source": [
    "z=a1*mex\n",
    "print(z)"
   ]
  },
  {
   "cell_type": "code",
   "execution_count": 28,
   "id": "4ad7821d",
   "metadata": {},
   "outputs": [
    {
     "name": "stdout",
     "output_type": "stream",
     "text": [
      "867.6042222620613\n"
     ]
    }
   ],
   "source": [
    "a0=mey-a1*mex\n",
    "print(a0)"
   ]
  },
  {
   "cell_type": "code",
   "execution_count": null,
   "id": "85b64ef7",
   "metadata": {},
   "outputs": [],
   "source": []
  }
 ],
 "metadata": {
  "kernelspec": {
   "display_name": "Python 3 (ipykernel)",
   "language": "python",
   "name": "python3"
  },
  "language_info": {
   "codemirror_mode": {
    "name": "ipython",
    "version": 3
   },
   "file_extension": ".py",
   "mimetype": "text/x-python",
   "name": "python",
   "nbconvert_exporter": "python",
   "pygments_lexer": "ipython3",
   "version": "3.9.13"
  }
 },
 "nbformat": 4,
 "nbformat_minor": 5
}
