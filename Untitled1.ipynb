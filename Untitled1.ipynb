{
 "cells": [
  {
   "cell_type": "code",
   "execution_count": 2,
   "id": "8ac4a17b",
   "metadata": {},
   "outputs": [
    {
     "name": "stdout",
     "output_type": "stream",
     "text": [
      "Details of the data\t DescribeResult(nobs=30, minmax=(1, 88), mean=26.933333333333334, variance=715.3057471264368, skewness=0.9591014772240082, kurtosis=-0.5039593211083249)\n"
     ]
    }
   ],
   "source": [
    "from scipy import stats\n",
    "data=[1,2,3,4,5,6,8,8,8,8,9,10,10,10,12,14,18,18,18,22,39,44,55,55,55,55,66,78,79,88]\n",
    "print(\"Details of the data\\t\",stats.describe(data))"
   ]
  },
  {
   "cell_type": "code",
   "execution_count": 5,
   "id": "ebe55796",
   "metadata": {},
   "outputs": [
    {
     "name": "stdout",
     "output_type": "stream",
     "text": [
      "\n",
      " The cumulative of the data\t CumfreqResult(cumcount=array([ 5., 16., 20., 20., 22., 22., 26., 27., 29., 30.]), lowerlimit=-3.833333333333333, binsize=9.666666666666666, extrapoints=0)\n",
      "\n",
      " The Geometric data 15.260661495888634\n",
      "\n",
      " The Harmonic mean of the data 7.690170827943984\n",
      "\n",
      "The IQR of the data\t 44.25\n",
      "\n",
      " The Zscore of the data [-0.9862207  -0.94819162 -0.91016255 -0.87213347 -0.8341044  -0.79607532\n",
      " -0.72001717 -0.72001717 -0.72001717 -0.72001717 -0.68198809 -0.64395902\n",
      " -0.64395902 -0.64395902 -0.56790087 -0.49184271 -0.33972641 -0.33972641\n",
      " -0.33972641 -0.18761011  0.45888418  0.64902956  1.06734939  1.06734939\n",
      "  1.06734939  1.06734939  1.48566923  1.94201814  1.98004721  2.3223089 ]\n",
      "\n",
      " The skewness of the data 0.9591014772240082\n",
      "\n",
      " The Kurtosos of the data -0.5039593211083249\n"
     ]
    }
   ],
   "source": [
    "print(\"\\n The cumulative of the data\\t\", stats.cumfreq(data))\n",
    "print(\"\\n The Geometric data\",stats.gmean(data))\n",
    "print(\"\\n The Harmonic mean of the data\",stats.hmean(data))\n",
    "print(\"\\nThe IQR of the data\\t\",stats.iqr(data))\n",
    "print(\"\\n The Zscore of the data\",stats.zscore(data))\n",
    "print(\"\\n The skewness of the data\",stats.skew(data))\n",
    "print(\"\\n The Kurtosos of the data\",stats.kurtosis(data))"
   ]
  },
  {
   "cell_type": "code",
   "execution_count": 10,
   "id": "0284e035",
   "metadata": {},
   "outputs": [
    {
     "name": "stdout",
     "output_type": "stream",
     "text": [
      "The correlation of data1 and data2\t SpearmanrResult(correlation=0.3571428571428572, pvalue=0.4316113520383278)\n",
      "\n",
      " The cov  [[ 4.66666667  6.16666667]\n",
      " [ 6.16666667 32.95238095]]\n"
     ]
    }
   ],
   "source": [
    "import numpy as np\n",
    "data1=[1,2,3,4,5,6,7]\n",
    "data2=[8,9,4,5,2,12,19]\n",
    "print(\"The correlation of data1 and data2\\t\",stats.spearmanr(data1,data2))\n",
    "print(\"\\n The cov \",np.cov(data1,data2))"
   ]
  },
  {
   "cell_type": "code",
   "execution_count": null,
   "id": "3495e275",
   "metadata": {},
   "outputs": [],
   "source": []
  }
 ],
 "metadata": {
  "kernelspec": {
   "display_name": "Python 3 (ipykernel)",
   "language": "python",
   "name": "python3"
  },
  "language_info": {
   "codemirror_mode": {
    "name": "ipython",
    "version": 3
   },
   "file_extension": ".py",
   "mimetype": "text/x-python",
   "name": "python",
   "nbconvert_exporter": "python",
   "pygments_lexer": "ipython3",
   "version": "3.9.13"
  }
 },
 "nbformat": 4,
 "nbformat_minor": 5
}
