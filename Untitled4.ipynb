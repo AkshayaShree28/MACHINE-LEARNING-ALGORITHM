{
 "cells": [
  {
   "cell_type": "code",
   "execution_count": 6,
   "id": "2c0cc8cd",
   "metadata": {},
   "outputs": [
    {
     "name": "stdout",
     "output_type": "stream",
     "text": [
      "\n",
      " Original Data [[1 3]\n",
      " [8 5]\n",
      " [6 7]\n",
      " [8 9]]\n",
      "\n",
      " the output of the MinMax Scaling [[0.         0.        ]\n",
      " [1.         0.33333333]\n",
      " [0.71428571 0.66666667]\n",
      " [1.         1.        ]]\n",
      "\n",
      " the output of the Scaling as z-score [[0.         0.        ]\n",
      " [1.         0.33333333]\n",
      " [0.71428571 0.66666667]\n",
      " [1.         1.        ]]\n"
     ]
    }
   ],
   "source": [
    "from numpy import asarray\n",
    "from sklearn.preprocessing import MinMaxScaler\n",
    "from sklearn.preprocessing import StandardScaler\n",
    "\n",
    "data=asarray([[1,3],[8,5],[6,7],[8,9]])\n",
    "print(\"\\n Original Data\",data)\n",
    "\n",
    "scaler1=MinMaxScaler()\n",
    "scaler2=StandardScaler()\n",
    "\n",
    "scaled1=scaler1.fit_transform(data)\n",
    "scaled2=scaler1.fit_transform(data)\n",
    "print(\"\\n the output of the MinMax Scaling\",scaled1)\n",
    "print(\"\\n the output of the Scaling as z-score\",scaled2)"
   ]
  },
  {
   "cell_type": "code",
   "execution_count": null,
   "id": "deffa3cb",
   "metadata": {},
   "outputs": [],
   "source": []
  }
 ],
 "metadata": {
  "kernelspec": {
   "display_name": "Python 3 (ipykernel)",
   "language": "python",
   "name": "python3"
  },
  "language_info": {
   "codemirror_mode": {
    "name": "ipython",
    "version": 3
   },
   "file_extension": ".py",
   "mimetype": "text/x-python",
   "name": "python",
   "nbconvert_exporter": "python",
   "pygments_lexer": "ipython3",
   "version": "3.9.13"
  }
 },
 "nbformat": 4,
 "nbformat_minor": 5
}
