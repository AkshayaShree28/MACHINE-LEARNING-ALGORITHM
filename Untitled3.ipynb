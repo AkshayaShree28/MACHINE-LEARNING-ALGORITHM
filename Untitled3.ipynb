{
 "cells": [
  {
   "cell_type": "code",
   "execution_count": 1,
   "id": "ff284518",
   "metadata": {},
   "outputs": [
    {
     "name": "stdout",
     "output_type": "stream",
     "text": [
      "     m1    m2    m3    m4    m5\n",
      "0  50.0  60.0  50.0  60.0   NaN\n",
      "1   NaN   NaN  70.0   NaN   NaN\n",
      "2  60.0  60.0   NaN   NaN   NaN\n",
      "3   NaN   NaN   NaN   NaN  10.0\n",
      "4  80.0  80.0  60.0  60.0  20.0\n"
     ]
    }
   ],
   "source": [
    "import pandas as pd\n",
    "df=pd.DataFrame({\n",
    "    'm1':[50,'A',60,'A',80],\n",
    "    'm2':[60,'A','60','A',80],\n",
    "    'm3':[50,70,'A','A',60],\n",
    "    'm4':[60,'A','A','A',60],\n",
    "    'm5':['A','A','A',10,20]\n",
    "})\n",
    "df=df.apply(pd.to_numeric,errors='coerce')\n",
    "print(df)"
   ]
  },
  {
   "cell_type": "code",
   "execution_count": 4,
   "id": "44a51e09",
   "metadata": {},
   "outputs": [
    {
     "name": "stdout",
     "output_type": "stream",
     "text": [
      "DataFrame\n",
      "     m1    m2    m3    m4    m5\n",
      "0  50.0  60.0  50.0  60.0   0.0\n",
      "1   NaN   NaN  70.0   NaN   0.0\n",
      "2  60.0  60.0   NaN   NaN   0.0\n",
      "3   NaN   NaN   NaN   NaN  10.0\n",
      "4  80.0  80.0  60.0  60.0  20.0\n",
      "Making m5 Nan as 0\n",
      "     m1         m2    m3    m4    m5\n",
      "0  50.0  60.000000  50.0  60.0   0.0\n",
      "1   NaN  66.666667  70.0   NaN   0.0\n",
      "2  60.0  60.000000   NaN   NaN   0.0\n",
      "3   NaN  66.666667   NaN   NaN  10.0\n",
      "4  80.0  80.000000  60.0  60.0  20.0\n",
      "Making m5 naN as mean \n",
      "     m1    m2    m3    m4    m5\n",
      "0  50.0  60.0  50.0  60.0   0.0\n",
      "1   NaN   NaN  70.0   NaN   0.0\n",
      "2  60.0  60.0   NaN   NaN   0.0\n",
      "3   NaN   NaN   NaN   NaN  10.0\n",
      "4  80.0  80.0  60.0  60.0  20.0\n",
      "     m5\n",
      "0   0.0\n",
      "1   0.0\n",
      "2   0.0\n",
      "3  10.0\n",
      "4  20.0\n",
      "Dropping all the columns having NaN\n"
     ]
    }
   ],
   "source": [
    "print('DataFrame')\n",
    "df['m5']=df['m5'].fillna(0)\n",
    "print(df)\n",
    "print(\"Making m5 Nan as 0\")\n",
    "\n",
    "df1=df.copy()\n",
    "df1['m2'].fillna(df1['m2'].mean(),inplace=True)\n",
    "print(df1)\n",
    "print(\"Making m5 naN as mean \")\n",
    "\n",
    "df2=df.copy()\n",
    "df1['m3'].fillna(df1['m2'].median(),inplace=True)\n",
    "print(df2)\n",
    "\n",
    "df=df.dropna(axis=1)\n",
    "print(df)\n",
    "print(\"Dropping all the columns having NaN\")"
   ]
  },
  {
   "cell_type": "code",
   "execution_count": null,
   "id": "079c4542",
   "metadata": {},
   "outputs": [],
   "source": []
  }
 ],
 "metadata": {
  "kernelspec": {
   "display_name": "Python 3 (ipykernel)",
   "language": "python",
   "name": "python3"
  },
  "language_info": {
   "codemirror_mode": {
    "name": "ipython",
    "version": 3
   },
   "file_extension": ".py",
   "mimetype": "text/x-python",
   "name": "python",
   "nbconvert_exporter": "python",
   "pygments_lexer": "ipython3",
   "version": "3.9.13"
  }
 },
 "nbformat": 4,
 "nbformat_minor": 5
}
