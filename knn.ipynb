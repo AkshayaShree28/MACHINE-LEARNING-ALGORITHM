{
 "cells": [
  {
   "cell_type": "code",
   "execution_count": 6,
   "metadata": {},
   "outputs": [],
   "source": [
    "import pandas as pd\n",
    "import math\n",
    "import numpy as np"
   ]
  },
  {
   "cell_type": "code",
   "execution_count": 7,
   "metadata": {},
   "outputs": [
    {
     "data": {
      "text/html": [
       "<div>\n",
       "<style scoped>\n",
       "    .dataframe tbody tr th:only-of-type {\n",
       "        vertical-align: middle;\n",
       "    }\n",
       "\n",
       "    .dataframe tbody tr th {\n",
       "        vertical-align: top;\n",
       "    }\n",
       "\n",
       "    .dataframe thead th {\n",
       "        text-align: right;\n",
       "    }\n",
       "</style>\n",
       "<table border=\"1\" class=\"dataframe\">\n",
       "  <thead>\n",
       "    <tr style=\"text-align: right;\">\n",
       "      <th></th>\n",
       "      <th>Sno</th>\n",
       "      <th>Height</th>\n",
       "      <th>Weight</th>\n",
       "      <th>Class</th>\n",
       "    </tr>\n",
       "  </thead>\n",
       "  <tbody>\n",
       "    <tr>\n",
       "      <th>0</th>\n",
       "      <td>1</td>\n",
       "      <td>167</td>\n",
       "      <td>51</td>\n",
       "      <td>Underweight</td>\n",
       "    </tr>\n",
       "    <tr>\n",
       "      <th>1</th>\n",
       "      <td>2</td>\n",
       "      <td>182</td>\n",
       "      <td>62</td>\n",
       "      <td>Normal</td>\n",
       "    </tr>\n",
       "    <tr>\n",
       "      <th>2</th>\n",
       "      <td>3</td>\n",
       "      <td>176</td>\n",
       "      <td>69</td>\n",
       "      <td>Normal</td>\n",
       "    </tr>\n",
       "    <tr>\n",
       "      <th>3</th>\n",
       "      <td>4</td>\n",
       "      <td>173</td>\n",
       "      <td>64</td>\n",
       "      <td>Normal</td>\n",
       "    </tr>\n",
       "    <tr>\n",
       "      <th>4</th>\n",
       "      <td>5</td>\n",
       "      <td>172</td>\n",
       "      <td>65</td>\n",
       "      <td>Normal</td>\n",
       "    </tr>\n",
       "    <tr>\n",
       "      <th>5</th>\n",
       "      <td>6</td>\n",
       "      <td>174</td>\n",
       "      <td>56</td>\n",
       "      <td>Underweight</td>\n",
       "    </tr>\n",
       "    <tr>\n",
       "      <th>6</th>\n",
       "      <td>7</td>\n",
       "      <td>169</td>\n",
       "      <td>58</td>\n",
       "      <td>Normal</td>\n",
       "    </tr>\n",
       "    <tr>\n",
       "      <th>7</th>\n",
       "      <td>8</td>\n",
       "      <td>173</td>\n",
       "      <td>57</td>\n",
       "      <td>Normal</td>\n",
       "    </tr>\n",
       "    <tr>\n",
       "      <th>8</th>\n",
       "      <td>9</td>\n",
       "      <td>170</td>\n",
       "      <td>55</td>\n",
       "      <td>Normal</td>\n",
       "    </tr>\n",
       "    <tr>\n",
       "      <th>9</th>\n",
       "      <td>10</td>\n",
       "      <td>176</td>\n",
       "      <td>59</td>\n",
       "      <td>Normal</td>\n",
       "    </tr>\n",
       "  </tbody>\n",
       "</table>\n",
       "</div>"
      ],
      "text/plain": [
       "   Sno  Height  Weight        Class\n",
       "0    1     167      51  Underweight\n",
       "1    2     182      62       Normal\n",
       "2    3     176      69       Normal\n",
       "3    4     173      64       Normal\n",
       "4    5     172      65       Normal\n",
       "5    6     174      56  Underweight\n",
       "6    7     169      58       Normal\n",
       "7    8     173      57       Normal\n",
       "8    9     170      55       Normal\n",
       "9   10     176      59      Normal "
      ]
     },
     "execution_count": 7,
     "metadata": {},
     "output_type": "execute_result"
    }
   ],
   "source": [
    "cols = [\"Sno\", \"Height\", \"Weight\", \"Class\"]\n",
    "df = pd.read_csv(\"KNNData.csv\", usecols=cols)\n",
    "k = 3\n",
    "testInstance = [170, 57]\n",
    "df\n"
   ]
  },
  {
   "cell_type": "markdown",
   "metadata": {},
   "source": [
    "KNNnormal"
   ]
  },
  {
   "cell_type": "code",
   "execution_count": 8,
   "metadata": {},
   "outputs": [
    {
     "name": "stdout",
     "output_type": "stream",
     "text": [
      "   Height  Weight        Class   distance\n",
      "0     169      58       Normal   1.414214\n",
      "1     170      55       Normal   2.000000\n",
      "2     173      57       Normal   3.000000\n",
      "3     174      56  Underweight   4.123106\n",
      "4     176      59      Normal    6.324555\n",
      "5     167      51  Underweight   6.708204\n",
      "6     173      64       Normal   7.615773\n",
      "7     172      65       Normal   8.246211\n",
      "8     182      62       Normal  13.000000\n",
      "9     176      69       Normal  13.416408\n",
      "\n",
      "   Height  Weight   Class  distance\n",
      "0     169      58  Normal  1.414214\n",
      "1     170      55  Normal  2.000000\n",
      "2     173      57  Normal  3.000000\n",
      "\n",
      "the given test instance classified into NORMAL\n"
     ]
    }
   ],
   "source": [
    "def distance(df,test_h,test_w):\n",
    "\n",
    "    dist=[]\n",
    "    for i in range(len(df)):\n",
    "        dist.append(math.sqrt((df.iloc[i,0]-test_h)**2+(df.iloc[i,1]-test_w)**2))\n",
    "    df[\"distance\"]=dist    \n",
    "    df= df.sort_values(['distance'])\n",
    "    df.reset_index(drop = True, inplace = True)\n",
    "    \n",
    "    return df\n",
    "\n",
    "cols = [\"Height\",\"Weight\",\"Class\"]\n",
    "df = pd.read_csv(\"KNNData.csv\", usecols=cols)\n",
    "\n",
    "df2=distance(df,170,57)\n",
    "print(df2)\n",
    "print()\n",
    "df1=df2.head(3)\n",
    "print(df1)\n",
    "for i in range(len(df1)):\n",
    "    nor=0\n",
    "    u_weight=0\n",
    "    if(df1[\"Class\"][i]==\"Normal\"):\n",
    "        nor=nor+1\n",
    "    elif(df1[\"Class\"][i]==\"Underweight\"):\n",
    "        u_weight=u_weight+1\n",
    "print()\n",
    "if(nor>u_weight):\n",
    "    print(\"the given test instance classified into NORMAL\")\n",
    "else:\n",
    "     print(\"the given test instance classified into UNDERWEIGHT\")\n",
    "\n",
    "\n",
    "\n"
   ]
  },
  {
   "cell_type": "markdown",
   "metadata": {},
   "source": [
    "Nearest centroid"
   ]
  },
  {
   "cell_type": "code",
   "execution_count": 12,
   "metadata": {},
   "outputs": [
    {
     "name": "stdout",
     "output_type": "stream",
     "text": [
      "   Height  Weight        Class\n",
      "0     167      51  Underweight\n",
      "1     182      62       Normal\n",
      "2     176      69       Normal\n",
      "3     173      64       Normal\n",
      "4     172      65       Normal\n",
      "5     174      56  Underweight\n",
      "6     169      58       Normal\n",
      "7     173      57       Normal\n",
      "8     170      55       Normal\n",
      "9     176      59      Normal \n",
      "                 Height     Weight\n",
      "Class                             \n",
      "Normal       173.571429  61.428571\n",
      "Normal       176.000000  59.000000\n",
      "Underweight  170.500000  53.500000\n",
      "The class is Underweight\n"
     ]
    }
   ],
   "source": [
    "def get_distance(x1,x2,y1, y2):\n",
    "    return math.sqrt((x1-x2)**2 + (y1-y2)**2)\n",
    "\n",
    "def centroid(df, x2, y2):\n",
    "    c = df.groupby([\"Class\"]).mean()\n",
    "    print(c)\n",
    "    class_n = get_distance(c[\"Height\"][0], x2, c[\"Weight\"][0], y2)\n",
    "    class_u = get_distance(c[\"Height\"][1], x2, c[\"Weight\"][1], y2)\n",
    "    result = \"Normal\" if class_n>class_u else \"Underweight\"\n",
    "    print(f\"The class is {result}\")\n",
    "\n",
    "cols = [\"Height\",\"Weight\",\"Class\"]\n",
    "df = pd.read_csv(\"KNNData.csv\", usecols=cols)\n",
    "print(df)\n",
    "centroid(df, 170, 57)\n"
   ]
  },
  {
   "cell_type": "markdown",
   "metadata": {},
   "source": [
    "Weighted"
   ]
  },
  {
   "cell_type": "code",
   "execution_count": 13,
   "metadata": {},
   "outputs": [
    {
     "name": "stdout",
     "output_type": "stream",
     "text": [
      "   Height  Weight        Class   distance\n",
      "0     167      51  Underweight   6.708204\n",
      "1     182      62       Normal  13.000000\n",
      "2     176      69       Normal  13.416408\n",
      "3     173      64       Normal   7.615773\n",
      "4     172      65       Normal   8.246211\n",
      "5     174      56  Underweight   4.123106\n",
      "6     169      58       Normal   1.414214\n",
      "7     173      57       Normal   3.000000\n",
      "8     170      55       Normal   2.000000\n",
      "9     176      59      Normal    6.324555\n",
      "\n",
      "the given test instance classified into NORMAL\n"
     ]
    }
   ],
   "source": [
    "def distance(df,test_h,test_w):\n",
    "    dist=[]\n",
    "    for i in range(len(df)):\n",
    "        dist.append(math.sqrt((df.iloc[i,0]-test_h)**2+(df.iloc[i,1]-test_w)**2))\n",
    "    df[\"distance\"]=dist    \n",
    "    df= df.sort_values(['distance'])\n",
    "    df.reset_index(drop = True, inplace = True)\n",
    "    return df\n",
    "\n",
    "def result(df1):\n",
    "    df1=df1.head(3)\n",
    "    df1[\"inverse\"]=1/df1.distance\n",
    "    inv_sum=df1.inverse.sum()\n",
    "    df1[\"fin_inv\"]=df1.inverse/inv_sum\n",
    "    print(df1)\n",
    "\n",
    "    for i in range(len(df1)):\n",
    "        nor=0\n",
    "        u_weight=0\n",
    "        if(df1[\"Class\"][i]==\"Normal\"):\n",
    "            nor=nor+1\n",
    "        elif(df1[\"Class\"][i]==\"Underweight\"):\n",
    "            u_weight=u_weight+1\n",
    "    print()\n",
    "    if(nor>u_weight):\n",
    "        print(\"the given test instance classified into NORMAL\")\n",
    "    else:\n",
    "        print(\"the given test instance classified into UNDERWEIGHT\")\n",
    "\n",
    "\n",
    "\n",
    "cols = [\"Height\",\"Weight\",\"Class\"]\n",
    "df = pd.read_csv(\"KNNData.csv\", usecols=cols)\n",
    "\n",
    "df1 = distance(df, 170, 57)\n",
    "print(df)\n",
    "result(df1)"
   ]
  }
 ],
 "metadata": {
  "kernelspec": {
   "display_name": "Python 3 (ipykernel)",
   "language": "python",
   "name": "python3"
  },
  "language_info": {
   "codemirror_mode": {
    "name": "ipython",
    "version": 3
   },
   "file_extension": ".py",
   "mimetype": "text/x-python",
   "name": "python",
   "nbconvert_exporter": "python",
   "pygments_lexer": "ipython3",
   "version": "3.9.13"
  },
  "vscode": {
   "interpreter": {
    "hash": "b04631aced757572b65f279a405e5edb81f8bec0e851d781a22d7c97d80e8461"
   }
  }
 },
 "nbformat": 4,
 "nbformat_minor": 2
}
